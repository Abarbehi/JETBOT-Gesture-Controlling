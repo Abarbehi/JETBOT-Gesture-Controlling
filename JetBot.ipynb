{
 "cells": [
  {
   "cell_type": "markdown",
   "metadata": {},
   "source": [
    "# JETBOT Gesture Controlling\n",
    "\n",
    "The document is run to display camera feed and set up a TCP/IP socket that receives commands from a client. The JetBot works in 2 modes, STOPMODE and DRIVEMODE .if you raise both of your hand and show your palm with your fingers open, it goes into  STOPMODE ; if you show \"V sign\" with both of your hands, it will get into Drive mode. In STOPMODE if you close all of one hand's fingers and the other hand wide open Jetbot will turn in the direction of the closed hand in its place. In DRIVEMODE left hand is used for acceleration and right hand is used for changing direction, if left had thumb is up the robot will go forward and if the thumb is down it will go downward. If the left-hand's thumb points to other directions (left or right) it won't move. While the left hand is used for acceleration the right hand is used for direction, if the right hand's thumb is up it will go straight and if the thumb is left or right it will go into that direction.\n",
    "Run all cells and the Jetbot will work properly. \n",
    "\n",
    "This document is influenced by :\n",
    "\n",
    "https://www.computervision.zone/\n",
    "\n",
    "https://github.com/HannesRingblom/JETANK_gesture_control\n",
    "\n",
    "\n",
    "### Import dependencies and displaying camera feed\n",
    "\n",
    "Running the code below will instanciate the camera and link the feed to a display widget."
   ]
  },
  {
   "cell_type": "code",
   "execution_count": 1,
   "metadata": {},
   "outputs": [
    {
     "data": {
      "application/vnd.jupyter.widget-view+json": {
       "model_id": "f8a696da96b846c8a23ddf842c8ff554",
       "version_major": 2,
       "version_minor": 0
      },
      "text/plain": [
       "Image(value=b'\\xff\\xd8\\xff\\xe0\\x00\\x10JFIF\\x00\\x01\\x01\\x00\\x00\\x01\\x00\\x01\\x00\\x00\\xff\\xdb\\x00C\\x00\\x02\\x01\\x0…"
      ]
     },
     "metadata": {},
     "output_type": "display_data"
    }
   ],
   "source": [
    "import socket\n",
    "import threading\n",
    "import time\n",
    "from time import sleep\n",
    "from jetbot import Robot\n",
    "import traitlets\n",
    "import ipywidgets.widgets as widgets\n",
    "from IPython.display import display\n",
    "from jetbot import Camera, bgr8_to_jpeg\n",
    "\n",
    "# Creating a connection between the Jetson camera and a display widget\n",
    "camera = Camera.instance(width=300, height=300)\n",
    "\n",
    "image = widgets.Image(format='jpeg', width=500, height=500)  # this width and height doesn't necessarily have to match the camera\n",
    "\n",
    "camera_link = traitlets.dlink((camera, 'value'), (image, 'value'), transform=bgr8_to_jpeg)\n",
    "\n",
    "display(image)"
   ]
  },
  {
   "cell_type": "markdown",
   "metadata": {},
   "source": [
    "## Functions & Variables\n",
    " Below all functions and variables of the program, regarding the movement of the robot are listed "
   ]
  },
  {
   "cell_type": "code",
   "execution_count": 2,
   "metadata": {},
   "outputs": [
    {
     "name": "stdout",
     "output_type": "stream",
     "text": [
      "TCP SERVER LISTENING\n"
     ]
    }
   ],
   "source": [
    "robot = Robot()\n",
    "serverPort = 2740\n",
    "serverPort2 = 1234\n",
    "\n",
    "# create TCP socket and bind to specified port\n",
    "s = socket.socket(socket.AF_INET, socket.SOCK_STREAM)\n",
    "s.bind(('', serverPort))\n",
    "s.listen()\n",
    "\n",
    "print (\"TCP SERVER LISTENING\")\n",
    "\n",
    "def move_forward():\n",
    "    robot.forward(0.3)\n",
    "    time.sleep(0.3)\n",
    "    robot.forward(0.2)\n",
    "    time.sleep(0.3)\n",
    "def stop():\n",
    "    robot.stop()\n",
    "    \n",
    "def stopp():\n",
    "    robot.stop()\n",
    "\n",
    "def move_backward():\n",
    "    robot.backward(0.3)\n",
    "    time.sleep(0.3)\n",
    "    robot.backward(0.2)\n",
    "    time.sleep(0.3)\n",
    "\n",
    "def move_left():\n",
    "    robot.left_motor.value =-0.3\n",
    "    robot.right_motor.value =0.3\n",
    "    time.sleep(0.1)\n",
    "\n",
    "\n",
    "def move_right():\n",
    "    robot.left_motor.value = 0.3\n",
    "    robot.right_motor.value =-0.3\n",
    "    time.sleep(0.1)\n",
    "    \n",
    "def up_right():\n",
    "    robot.left_motor.value  =0.3\n",
    "    robot.right_motor.value =0.2\n",
    "    time.sleep(0.1)\n",
    "    \n",
    "def up_left():\n",
    "    robot.left_motor.value  =0.2\n",
    "    robot.right_motor.value =0.3\n",
    "    time.sleep(0.1)\n",
    "    \n",
    "def down_right():\n",
    "    robot.left_motor.value  =-0.3\n",
    "    robot.right_motor.value =-0.15\n",
    "    time.sleep(0.1)\n",
    "def down_left():\n",
    "    robot.left_motor.value  =-0.15\n",
    "    robot.right_motor.value =-0.3\n",
    "    time.sleep(0.1)\n",
    "        \n",
    "\n",
    "\n",
    "# Calls move functions respective to the input\n",
    "def moveJetBot(button_pressed):\n",
    "    if not controlBot.new_pressed:\n",
    "        stop()\n",
    "    else:\n",
    "        if button_pressed == \"f\":\n",
    "            move_forward()\n",
    "        elif button_pressed == \"b\":\n",
    "            move_backward()\n",
    "        elif button_pressed == \"l\":\n",
    "            move_left()\n",
    "        elif button_pressed == \"r\":\n",
    "            move_right()\n",
    "        elif button_pressed == \"s\":\n",
    "            stopp()\n",
    "        elif button_pressed == \"t\":\n",
    "            up_right()\n",
    "        elif button_pressed == \"u\":\n",
    "            up_left()\n",
    "        elif button_pressed == \"o\":\n",
    "            down_right()\n",
    "        elif button_pressed == \"p\":\n",
    "            down_left()\n",
    "    controlBot.new_pressed = 0\n",
    "    \n",
    "\n",
    "sleep(3.5)\n"
   ]
  },
  {
   "cell_type": "markdown",
   "metadata": {},
   "source": [
    "## Control Thread\n",
    "Create controlThread responsible for the movement of the robot."
   ]
  },
  {
   "cell_type": "code",
   "execution_count": 3,
   "metadata": {},
   "outputs": [],
   "source": [
    "class controlThread(threading.Thread):\n",
    "    def __init__(self, *args, **kwargs):\n",
    "        super(controlThread, self).__init__(*args, **kwargs)\n",
    "        self.__flag = threading.Event()\n",
    "        self.__flag.clear()\n",
    "        self.button_pressed = \"\"\n",
    "        self.new_pressed = 0\n",
    "        self.mode_pressed = 0\n",
    "\n",
    "    def pause(self):\n",
    "        self.__flag.clear()\n",
    "\n",
    "    def resume(self):\n",
    "        self.__flag.set()\n",
    "\n",
    "    def run(self):\n",
    "        while 1:\n",
    "            self.__flag.wait()\n",
    "\n",
    "            # Calls functions based on variable set in Input thread\n",
    "            if self.new_pressed:\n",
    "                moveJetBot(self.button_pressed)\n",
    "            if not self.new_pressed and not self.mode_pressed:\n",
    "                self.pause()\n",
    "            sleep(0.1)\n",
    "\n",
    "\n",
    "# Instantiate and start the multi-threaded servo control thread.\n",
    "controlBot = controlThread()\n",
    "controlBot.start()"
   ]
  },
  {
   "cell_type": "markdown",
   "metadata": {},
   "source": [
    "## Input Thread\n",
    "Create inputThread responsible for the socket connection and input received"
   ]
  },
  {
   "cell_type": "code",
   "execution_count": 4,
   "metadata": {},
   "outputs": [],
   "source": [
    "class inputThread(threading.Thread):\n",
    "    def __init__(self, *args, **kwargs):\n",
    "        super(inputThread, self).__init__(*args, **kwargs)\n",
    "        self.__flag = threading.Event()\n",
    "        self.__flag.clear()\n",
    "\n",
    "    def pause(self):\n",
    "        self.__flag.clear()\n",
    "\n",
    "    def resume(self):\n",
    "        self.__flag.set()\n",
    "\n",
    "    def run(self):\n",
    "        while 1:\n",
    "            conn, addr = s.accept()\n",
    "            with conn:\n",
    "                print(\"Connected to: \")\n",
    "                print(addr)\n",
    "                while 1:\n",
    "                    \n",
    "                    self.__flag.wait()\n",
    "                    message, clientAddress = conn.recvfrom(2048)\n",
    "                    mess = message.decode()\n",
    "                    controlBot.button_pressed = mess\n",
    "                    controlBot.new_pressed = 1\n",
    "                    controlBot.resume()\n",
    "                    \n",
    "\n",
    "\n",
    "\n",
    "# Instantiate the gamepad input thread and start reading information\n",
    "inputThreading = inputThread()\n",
    "inputThreading.start()\n",
    "inputThreading.resume()\n"
   ]
  },
  {
   "cell_type": "code",
   "execution_count": 5,
   "metadata": {},
   "outputs": [
    {
     "name": "stdout",
     "output_type": "stream",
     "text": [
      "Connected to: \n",
      "('192.168.178.27', 13784)\n"
     ]
    }
   ],
   "source": [
    "#camera.stop()"
   ]
  },
  {
   "cell_type": "code",
   "execution_count": null,
   "metadata": {},
   "outputs": [],
   "source": []
  }
 ],
 "metadata": {
  "kernelspec": {
   "display_name": "Python 3",
   "language": "python",
   "name": "python3"
  },
  "language_info": {
   "codemirror_mode": {
    "name": "ipython",
    "version": 3
   },
   "file_extension": ".py",
   "mimetype": "text/x-python",
   "name": "python",
   "nbconvert_exporter": "python",
   "pygments_lexer": "ipython3",
   "version": "3.6.9"
  }
 },
 "nbformat": 4,
 "nbformat_minor": 4
}
